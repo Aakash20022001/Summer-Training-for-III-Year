{
 "cells": [
  {
   "cell_type": "code",
   "execution_count": 1,
   "source": [
    "#Importing the libraries\r\n",
    "import pandas as pd\r\n",
    "import numpy as np\r\n",
    "import matplotlib.pyplot as plt\r\n"
   ],
   "outputs": [],
   "metadata": {}
  },
  {
   "cell_type": "code",
   "execution_count": 8,
   "source": [
    "dataset = pd.read_csv(r'C:\\Users\\new\\Desktop\\summer training aiml\\Day1\\StudentsPerformance.csv')\r\n",
    "X = dataset.iloc[:, :-1].values\r\n",
    "y = dataset.iloc[:, -1].values"
   ],
   "outputs": [],
   "metadata": {}
  },
  {
   "cell_type": "code",
   "execution_count": 9,
   "source": [
    "print(X)"
   ],
   "outputs": [
    {
     "output_type": "stream",
     "name": "stdout",
     "text": [
      "[['female' 'group B' \"bachelor's degree\" ... 'none' 72 72]\n",
      " ['female' 'group C' 'some college' ... 'completed' 69 90]\n",
      " ['female' 'group B' \"master's degree\" ... 'none' 90 95]\n",
      " ...\n",
      " ['female' 'group C' 'high school' ... 'completed' 59 71]\n",
      " ['female' 'group D' 'some college' ... 'completed' 68 78]\n",
      " ['female' 'group D' 'some college' ... 'none' 77 86]]\n"
     ]
    }
   ],
   "metadata": {}
  },
  {
   "cell_type": "code",
   "execution_count": 10,
   "source": [
    "print(y)"
   ],
   "outputs": [
    {
     "output_type": "stream",
     "name": "stdout",
     "text": [
      "[ 74  88  93  44  75  78  92  39  67  50  52  43  73  70  58  78  86  28\n",
      "  46  61  63  70  53  73  80  72  55  75  65  75  74  61  65  38  82  79\n",
      "  83  59  88  57  54  68  65  66  54  57  62  76  76  82  48  68  42  75\n",
      "  87  43  86  49  58  10  72  34  55  71  59  61  37  74  56  57  73  63\n",
      "  48  56  41  38  22  81  72  68  50  45  54  63  34  82  88  74  67  82\n",
      "  74  36  71  50  92  82  62  70  62  62  67  74  89  47  90  72 100  64\n",
      "  70  72  98  49  47  54 100  74  82  79  61  65  89  92  93  56  73  86\n",
      "  67  74  74  51  82  40  70  84  75  48  41  56  67  69  71  64  54  47\n",
      "  78  33  75  66  81  93  69  68  66  47  61  88  78  60  87  64  74  85\n",
      "  52  49  91 100  51  78  78  70  74  78  81  70  54  87  58  77  62 100\n",
      "  75  66  47  70  49  65  65  68  45  87  69  79  66  62  85  52  65  51\n",
      "  55  76  86  77  69  68  42  78  62  76  76  66  79  27  60  56  81  75\n",
      "  88  39  70  56  74  73  62  75  73  54  71  54  64  94  66  42  83  78\n",
      "  84  77  67  74  51  80  66  83  55  43  69  71  74  68  62  53  49  83\n",
      "  70  72  52  70  68  77  78  81  77  78  51  90  68  41  81  77  95  70\n",
      "  61  42  58  71  76  73  93  75  80  57  42  46  84  78  46  82  88  82\n",
      "  76  77  68  70  57  75  80  60  43  68  50  75  81  52  81  64  83  69\n",
      "  81  44  67  52  80  57  68  69  75  65  91  78  69  63  84  79  80  53\n",
      "  43  94  62  19  77  51  61  35  53  81  95  66  69  43  27  60  52  63\n",
      "  74  67  67  75  57  95  66  76  69  52  80  57  70  70  61  69  61  89\n",
      "  59  78  58  32  58  60  53  61  58  85  71  70  72  96  73  41  82 100\n",
      "  77  62  83  95  71  45  43  75  70  67  64  75  59  77  67  56  77  41\n",
      "  63  95  57  54  67  43  55 100  62  68  63  77  56  85  74  78  60  67\n",
      "  79  69  68  67  62  54  93  64  67  80  34  62  86  65  53  54  59  70\n",
      "  55  50  66  53  64  73  51  82  79  80  69  76  73  77  60  80  42  72\n",
      "  85  97  74  49  62  47  89  48 100  68  55  45  76  91  62  91  38  65\n",
      "  85  76  90  74  84  61  91  83  66  72  70  67  68  56  61  46  54  71\n",
      "  56  74  57  82  76  70  90  90  68  66  52  76  68  72  82  92  54  92\n",
      "  54  80  66  54  77  87  73  43  52  62  94  85  84  73  78  79  52  84\n",
      "  57  50  49  59  60  43  47  70  73  53  58  94  68  83  58  62  71  86\n",
      "  68  80  79  89  66  80  97  64  64  69  65  88  50  64  40  33  79  66\n",
      "  70  62  79  74  92  80  46  45 100  78  47  67  70  92  56  64  71  53\n",
      "  52  89  58  68  96  80  78  80  77  76  73  62  65  65  54  50  64  73\n",
      "  99  72  15  48  73  81  63  30  80  51  90  62  82  54  62  65  63  66\n",
      "  91  74  93  72  38  83  84  68  54  56  52  86  62  99  63  46  46  55\n",
      "  70  65  81  85  80  64  81  88  74  73  51  90  79  80  60  81  65  68\n",
      "  55  81  53  76  98  74  79  67  64  61  58  85  73  63  69  67  63  60\n",
      "  71  87  61  77  68  50  76  84  78  66  76  76  78  60  74  60  54  44\n",
      "  68 100  68  73  44  83  53  78  81  73  56  86  90  70  79  59  82  72\n",
      "  87  67  64  65  36  52  79  58  90  85  99  84  74  87  72  99  74  80\n",
      "  70  59  88  42  41  71  77  57  84  37  80  43  94  44  57  59  84  73\n",
      "  73  55  72  56  82  72  47  74  71  68  59  86  68  65  75  85  53  92\n",
      "  52  72  65  77  64  54  86  63  59  72  77  60  75  57  49  74  72  79\n",
      "  60  55  70  43  82  82  57  84  82  62  79  44  77  32  61  61  60  70\n",
      "  69  77  51  73  70  81  54  57  68  73  95  87  78  74  75  40  69  51\n",
      "  36  49  67  76  83  87  64  76  68  88  92  93  51  82  52  58  70  76\n",
      "  81  53  57  89  58  89  45  74  57  79  53  73  46  51  36  76  64  84\n",
      "  85  50  68  69  67  63  93  61  55  96  65  81  46  72  53  87  38  80\n",
      "  91  88  52  41  72  51  47  76  78  82  61  66  84  54  80  74  66  70\n",
      "  71  44  54  80  95  59  74  48  91  85  73  75  69  38  27  79  63  82\n",
      "  89  74  41 100  84  77  51  91  72  70  48  82  66  66  55  66 100  52\n",
      "  80  91  67  46  66  65  69  60  52  71  44  51  70  62  73  74  90  58\n",
      "  53  57  85  69  72  96  64  61  61  58  80  60  52  73  71  83  72  54\n",
      "  69  62  81 100  59  71  64  53 100  75  58  72  64  60  67  80 100  69\n",
      "  60  61  67  77  60  58  48  94  23  78  86  91  82  54  51  76  45  83\n",
      "  75  78  76  74  62  95  55  65  77  86]\n"
     ]
    }
   ],
   "metadata": {}
  },
  {
   "cell_type": "code",
   "execution_count": 12,
   "source": [
    "from sklearn.impute import SimpleImputer\r\n",
    "imputer = SimpleImputer(missing_values=np.nan, strategy='mean')\r\n",
    "imputer.fit(X[:, 1:3])\r\n",
    "X[:, 1:3] = imputer.transform(X[:, 1:3])"
   ],
   "outputs": [
    {
     "output_type": "error",
     "ename": "ValueError",
     "evalue": "Cannot use mean strategy with non-numeric data:\ncould not convert string to float: 'group B'",
     "traceback": [
      "\u001b[1;31m---------------------------------------------------------------------------\u001b[0m",
      "\u001b[1;31mValueError\u001b[0m                                Traceback (most recent call last)",
      "\u001b[1;32m<ipython-input-12-fe56d94140a0>\u001b[0m in \u001b[0;36m<module>\u001b[1;34m\u001b[0m\n\u001b[0;32m      1\u001b[0m \u001b[1;32mfrom\u001b[0m \u001b[0msklearn\u001b[0m\u001b[1;33m.\u001b[0m\u001b[0mimpute\u001b[0m \u001b[1;32mimport\u001b[0m \u001b[0mSimpleImputer\u001b[0m\u001b[1;33m\u001b[0m\u001b[1;33m\u001b[0m\u001b[0m\n\u001b[0;32m      2\u001b[0m \u001b[0mimputer\u001b[0m \u001b[1;33m=\u001b[0m \u001b[0mSimpleImputer\u001b[0m\u001b[1;33m(\u001b[0m\u001b[0mmissing_values\u001b[0m\u001b[1;33m=\u001b[0m\u001b[0mnp\u001b[0m\u001b[1;33m.\u001b[0m\u001b[0mnan\u001b[0m\u001b[1;33m,\u001b[0m \u001b[0mstrategy\u001b[0m\u001b[1;33m=\u001b[0m\u001b[1;34m'mean'\u001b[0m\u001b[1;33m)\u001b[0m\u001b[1;33m\u001b[0m\u001b[1;33m\u001b[0m\u001b[0m\n\u001b[1;32m----> 3\u001b[1;33m \u001b[0mimputer\u001b[0m\u001b[1;33m.\u001b[0m\u001b[0mfit\u001b[0m\u001b[1;33m(\u001b[0m\u001b[0mX\u001b[0m\u001b[1;33m[\u001b[0m\u001b[1;33m:\u001b[0m\u001b[1;33m,\u001b[0m \u001b[1;36m1\u001b[0m\u001b[1;33m:\u001b[0m\u001b[1;36m3\u001b[0m\u001b[1;33m]\u001b[0m\u001b[1;33m)\u001b[0m\u001b[1;33m\u001b[0m\u001b[1;33m\u001b[0m\u001b[0m\n\u001b[0m\u001b[0;32m      4\u001b[0m \u001b[0mX\u001b[0m\u001b[1;33m[\u001b[0m\u001b[1;33m:\u001b[0m\u001b[1;33m,\u001b[0m \u001b[1;36m1\u001b[0m\u001b[1;33m:\u001b[0m\u001b[1;36m3\u001b[0m\u001b[1;33m]\u001b[0m \u001b[1;33m=\u001b[0m \u001b[0mimputer\u001b[0m\u001b[1;33m.\u001b[0m\u001b[0mtransform\u001b[0m\u001b[1;33m(\u001b[0m\u001b[0mX\u001b[0m\u001b[1;33m[\u001b[0m\u001b[1;33m:\u001b[0m\u001b[1;33m,\u001b[0m \u001b[1;36m1\u001b[0m\u001b[1;33m:\u001b[0m\u001b[1;36m3\u001b[0m\u001b[1;33m]\u001b[0m\u001b[1;33m)\u001b[0m\u001b[1;33m\u001b[0m\u001b[1;33m\u001b[0m\u001b[0m\n",
      "\u001b[1;32m~\\AppData\\Local\\Programs\\Python\\Python38-32\\lib\\site-packages\\sklearn\\impute\\_base.py\u001b[0m in \u001b[0;36mfit\u001b[1;34m(self, X, y)\u001b[0m\n\u001b[0;32m    343\u001b[0m             )\n\u001b[0;32m    344\u001b[0m \u001b[1;33m\u001b[0m\u001b[0m\n\u001b[1;32m--> 345\u001b[1;33m         \u001b[0mX\u001b[0m \u001b[1;33m=\u001b[0m \u001b[0mself\u001b[0m\u001b[1;33m.\u001b[0m\u001b[0m_validate_input\u001b[0m\u001b[1;33m(\u001b[0m\u001b[0mX\u001b[0m\u001b[1;33m,\u001b[0m \u001b[0min_fit\u001b[0m\u001b[1;33m=\u001b[0m\u001b[1;32mTrue\u001b[0m\u001b[1;33m)\u001b[0m\u001b[1;33m\u001b[0m\u001b[1;33m\u001b[0m\u001b[0m\n\u001b[0m\u001b[0;32m    346\u001b[0m \u001b[1;33m\u001b[0m\u001b[0m\n\u001b[0;32m    347\u001b[0m         \u001b[1;31m# default fill_value is 0 for numerical input and \"missing_value\"\u001b[0m\u001b[1;33m\u001b[0m\u001b[1;33m\u001b[0m\u001b[1;33m\u001b[0m\u001b[0m\n",
      "\u001b[1;32m~\\AppData\\Local\\Programs\\Python\\Python38-32\\lib\\site-packages\\sklearn\\impute\\_base.py\u001b[0m in \u001b[0;36m_validate_input\u001b[1;34m(self, X, in_fit)\u001b[0m\n\u001b[0;32m    300\u001b[0m                     )\n\u001b[0;32m    301\u001b[0m                 )\n\u001b[1;32m--> 302\u001b[1;33m                 \u001b[1;32mraise\u001b[0m \u001b[0mnew_ve\u001b[0m \u001b[1;32mfrom\u001b[0m \u001b[1;32mNone\u001b[0m\u001b[1;33m\u001b[0m\u001b[1;33m\u001b[0m\u001b[0m\n\u001b[0m\u001b[0;32m    303\u001b[0m             \u001b[1;32melse\u001b[0m\u001b[1;33m:\u001b[0m\u001b[1;33m\u001b[0m\u001b[1;33m\u001b[0m\u001b[0m\n\u001b[0;32m    304\u001b[0m                 \u001b[1;32mraise\u001b[0m \u001b[0mve\u001b[0m\u001b[1;33m\u001b[0m\u001b[1;33m\u001b[0m\u001b[0m\n",
      "\u001b[1;31mValueError\u001b[0m: Cannot use mean strategy with non-numeric data:\ncould not convert string to float: 'group B'"
     ]
    }
   ],
   "metadata": {}
  }
 ],
 "metadata": {
  "orig_nbformat": 4,
  "language_info": {
   "name": "python",
   "version": "3.8.7",
   "mimetype": "text/x-python",
   "codemirror_mode": {
    "name": "ipython",
    "version": 3
   },
   "pygments_lexer": "ipython3",
   "nbconvert_exporter": "python",
   "file_extension": ".py"
  },
  "kernelspec": {
   "name": "python3",
   "display_name": "Python 3.8.7 32-bit"
  },
  "interpreter": {
   "hash": "1ba1119b9f94360c53cf4105d472c0628cbe35194301e74c664a9bb982835749"
  }
 },
 "nbformat": 4,
 "nbformat_minor": 2
}